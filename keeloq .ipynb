{
 "cells": [
  {
   "cell_type": "code",
   "execution_count": 1,
   "metadata": {
    "vscode": {
     "languageId": "python"
    }
   },
   "outputs": [],
   "source": [
    "from sage.all import *\n",
    "import random\n",
    "from sage.sat.converters.polybori import CNFEncoder\n",
    "from sage.sat.solvers.dimacs import DIMACS\n",
    "from sage.sat.solvers.cryptominisat import CryptoMiniSat\n",
    "from pycryptosat import Solver"
   ]
  },
  {
   "cell_type": "code",
   "execution_count": 2,
   "metadata": {
    "vscode": {
     "languageId": "python"
    }
   },
   "outputs": [],
   "source": [
    "knownplaintext= [1,1,1,1,0,1,1,1,0,1,0,0,0,0,0,1,1,1,1,0,0,0,1,0,1,1,0,1,1,0,1,1]\n",
    "knownciphertext=[1,1,1,0,0,1,0,0,0,1,0,0,1,1,1,1,0,1,0,0,1,1,0,0,1,1,0,1,1,1,1,1]\n",
    "key=            [0,1,0,1,1,1,0,0,1,1,1,0,1,1,0,0,0,1,1,0,0,1,1,1,0,0,0,0,0,0,0,1,1,0,1,1,0,1,1,1,1,0,0,1,1,1,1,1,1,1,0,1,1,0,0,1,0,1,0,0,1,0,0,1]\n",
    "\n",
    "selectedKeybits = [i for i in range(40)]\n",
    "for i in [11,20,25,26,27,32,35,36]:\n",
    "    selectedKeybits.remove(i)\n",
    "num_rounds=528"
   ]
  },
  {
   "cell_type": "code",
   "execution_count": 3,
   "metadata": {
    "vscode": {
     "languageId": "python"
    }
   },
   "outputs": [],
   "source": [
    "nextfree=0\n",
    "maxvars=num_rounds+32+64\n",
    "vars={}\n",
    "\n",
    "def getVar(v) -> int:\n",
    "    global nextfree\n",
    "    global vars\n",
    "    global maxvars\n",
    "    if(v[0]=='L' or v[0]=='k'):\n",
    "        if(v in vars):\n",
    "            return vars[v]\n",
    "        else:\n",
    "            vars[v]=nextfree\n",
    "            nextfree+=1\n",
    "            return vars[v]\n",
    "    else:\n",
    "        if(v in vars):\n",
    "            return vars[v]\n",
    "        else:\n",
    "            vars[v]=maxvars\n",
    "            maxvars+=1\n",
    "            return vars[v]\n",
    "    "
   ]
  },
  {
   "cell_type": "code",
   "execution_count": 4,
   "metadata": {
    "vscode": {
     "languageId": "python"
    }
   },
   "outputs": [],
   "source": [
    "def encrypt(rounds:int, quadratic:bool, B:BooleanPolynomialRing):\n",
    "        toAdd=[]\n",
    "        for i in range(rounds):\n",
    "            if(quadratic):\n",
    "                toAdd.append(B.gen(getVar(f'L{i+32}'))+B.gen(getVar(f'k{i%64}'))+B.gen(getVar(f'L{i}'))+B.gen(getVar(f'L{i+16}'))+B.gen(getVar(f'L{i+9}'))+B.gen(getVar(f'L{i+1}'))+B.gen(getVar(f'L{i+31}'))*B.gen(getVar(f'L{i+20}'))+B.gen(getVar(f'b{i}'))+B.gen(getVar(f'L{i+26}'))*B.gen(getVar(f'L{i+20}'))+B.gen(getVar(f'L{i+26}'))*B.gen(getVar(f'L{i+1}'))+B.gen(getVar(f'L{i+20}'))*B.gen(getVar(f'L{i+9}'))+B.gen(getVar(f'L{i+9}'))*B.gen(getVar(f'L{i+1}'))+B.gen(getVar(f'b{i}'))*B.gen(getVar(f'L{i+9}'))+B.gen(getVar(f'b{i}'))*B.gen(getVar(f'L{i+20}'))+B.gen(getVar(f'a{i}'))*B.gen(getVar(f'L{i+9}'))+B.gen(getVar(f'a{i}'))*B.gen(getVar(f'L{i+20}')))\n",
    "                \n",
    "                toAdd.append(B.gen(getVar(f'a{i}'))+B.gen(getVar(f'L{i+31}'))*B.gen(getVar(f'L{i+26}')))\n",
    "                \n",
    "                toAdd.append(B.gen(getVar(f'b{i}'))+B.gen(getVar(f'L{i+31}'))*B.gen(getVar(f'L{i+1}')))\n",
    "            else:\n",
    "                toAdd.append(B.gen(getVar(f'L{i+32}'))+B.gen(getVar(f'k{i%64}'))+B.gen(getVar(f'L{i}'))+B.gen(getVar(f'L{i+16}'))+B.gen(getVar(f'L{i+9}'))+B.gen(getVar(f'L{i+1}'))+B.gen(getVar(f'L{i+31}'))*B.gen(getVar(f'L{i+20}'))+B.gen(getVar(f'L{i+31}'))*B.gen(getVar(f'L{i+1}'))+B.gen(getVar(f'L{i+26}'))*B.gen(getVar(f'L{i+20}'))+B.gen(getVar(f'L{i+26}'))*B.gen(getVar(f'L{i+1}'))+B.gen(getVar(f'L{i+20}'))*B.gen(getVar(f'L{i+9}'))+B.gen(getVar(f'L{i+9}'))*B.gen(getVar(f'L{i+1}'))+B.gen(getVar(f'L{i+31}'))*B.gen(getVar(f'L{i+1}'))*B.gen(getVar(f'L{i+9}'))+B.gen(getVar(f'L{i+31}'))*B.gen(getVar(f'L{i+1}'))*B.gen(getVar(f'L{i+20}'))+B.gen(getVar(f'L{i+31}'))*B.gen(getVar(f'L{i+26}'))*B.gen(getVar(f'L{i+9}'))+B.gen(getVar(f'L{i+31}'))*B.gen(getVar(f'L{i+26}'))*B.gen(getVar(f'L{i+20}')))\n",
    "        return toAdd"
   ]
  },
  {
   "cell_type": "code",
   "execution_count": 5,
   "metadata": {
    "vscode": {
     "languageId": "python"
    }
   },
   "outputs": [],
   "source": [
    "def addPlain(pt:list[int],B:BooleanPolynomialRing):\n",
    "    toAdd=[]\n",
    "    for i in range(len(pt)):\n",
    "        if(pt[i]):\n",
    "            toAdd.append(1+B.gen(getVar(f'L{i}')))\n",
    "        else:\n",
    "            toAdd.append(B.gen(getVar(f'L{i}')))\n",
    "    return toAdd"
   ]
  },
  {
   "cell_type": "code",
   "execution_count": 6,
   "metadata": {
    "vscode": {
     "languageId": "python"
    }
   },
   "outputs": [],
   "source": [
    "def addCipher(ct:list[int],B:BooleanPolynomialRing):\n",
    "    toAdd=[]\n",
    "    for i in range(len(ct)):\n",
    "        if(ct[i]):\n",
    "            toAdd.append(1+B.gen(getVar(f'L{160+i}')))\n",
    "        else:\n",
    "            toAdd.append(B.gen(getVar(f'L{160+i}')))\n",
    "    return toAdd"
   ]
  },
  {
   "cell_type": "code",
   "execution_count": 7,
   "metadata": {
    "vscode": {
     "languageId": "python"
    }
   },
   "outputs": [],
   "source": [
    "def addKey(select:list[int],k:list[int],B:BooleanPolynomialRing):\n",
    "    toAdd=[]\n",
    "    for kb in select:\n",
    "        if(k[kb]):\n",
    "            toAdd.append(1+B.gen(getVar(f'k{kb}')))\n",
    "        else:\n",
    "            toAdd.append(B.gen(getVar(f'k{kb}')))\n",
    "    return toAdd"
   ]
  },
  {
   "cell_type": "code",
   "execution_count": 8,
   "metadata": {
    "vscode": {
     "languageId": "python"
    }
   },
   "outputs": [],
   "source": [
    "def encode(r,fn,ho):\n",
    "    B=BooleanPolynomialRing(r+32+64+r*2,names='x')\n",
    "    polynoms=[]\n",
    "    polynoms+=encrypt(r,(not ho),B)\n",
    "    polynoms+=addPlain(knownplaintext,B)\n",
    "    polynoms+=addCipher(knownciphertext,B)\n",
    "    polynoms+=addKey(selectedKeybits,key,B)\n",
    "    with open(f'{fn}.anf', 'w') as f:\n",
    "        for p in polynoms:\n",
    "            f.write(f\"{p}\\n\")\n",
    "    with open(f'{fn}_x.cnf', 'w') as f:\n",
    "        solver = CryptoMiniSat()\n",
    "        e = CNFEncoder(solver, B,use_xor_clauses=True)\n",
    "        e(polynoms)\n",
    "        solver.clauses(f'{fn}_x.cnf')\n",
    "    with open(f'{fn}.cnf', 'w') as f:\n",
    "        solver = DIMACS(filename=f'{fn}.cnf')\n",
    "        e = CNFEncoder(solver, B)\n",
    "        e(polynoms)\n",
    "        _ = solver.write()"
   ]
  },
  {
   "cell_type": "code",
   "execution_count": 9,
   "metadata": {
    "vscode": {
     "languageId": "python"
    }
   },
   "outputs": [],
   "source": [
    "encode(528,\"keeloq_ho_allr\",true)\n",
    "encode(528,\"keeloq_q_allr\",false)"
   ]
  },
  {
   "cell_type": "code",
   "execution_count": 74,
   "metadata": {
    "vscode": {
     "languageId": "python"
    }
   },
   "outputs": [],
   "source": [
    "keys={}\n",
    "\n",
    "for k, v in vars.items():\n",
    "    if(k[0]=='k'):\n",
    "        keys[v]=k"
   ]
  },
  {
   "cell_type": "code",
   "execution_count": 79,
   "metadata": {
    "vscode": {
     "languageId": "python"
    }
   },
   "outputs": [],
   "source": [
    "def getSol(sol) -> list[int]:\n",
    "    sol_vars=[int(x) for x in sol.split()]\n",
    "    obtainedK=[-1 for _ in range(64)]\n",
    "    for v in sol_vars:\n",
    "        if abs(v)-1 in keys:\n",
    "            if(v>0):\n",
    "                obtainedK[int(keys[abs(v)-1][1:])]=1\n",
    "            else:\n",
    "                obtainedK[int(keys[abs(v)-1][1:])]=0\n",
    "    return obtainedK"
   ]
  }
 ],
 "metadata": {
  "kernelspec": {
   "display_name": "SageMath 10.2",
   "language": "sage",
   "name": "sagemath"
  },
  "language_info": {
   "codemirror_mode": {
    "name": "ipython",
    "version": 3
   },
   "file_extension": ".py",
   "mimetype": "text/x-python",
   "name": "sage",
   "nbconvert_exporter": "python",
   "pygments_lexer": "ipython3",
   "version": "3.11.9"
  }
 },
 "nbformat": 4,
 "nbformat_minor": 2
}
